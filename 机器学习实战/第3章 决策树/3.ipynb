{
 "cells": [
  {
   "cell_type": "code",
   "execution_count": 1,
   "metadata": {},
   "outputs": [],
   "source": [
    "# 2018/5/30\n",
    "# 本文有 Matploylib 注解画图"
   ]
  },
  {
   "cell_type": "code",
   "execution_count": 2,
   "metadata": {},
   "outputs": [],
   "source": [
    "import numpy as np"
   ]
  },
  {
   "cell_type": "code",
   "execution_count": 3,
   "metadata": {},
   "outputs": [],
   "source": [
    "# 程序清单3-1 计算给定数据集的香农熵\n",
    "from math import log\n",
    "def calcShannonEnt(dataSet):\n",
    "    numEntries = len(dataSet)\n",
    "    labelCounts = {}\n",
    "    for featVec in dataSet:\n",
    "        currentLabel = featVec[-1]\n",
    "        if currentLabel not in labelCounts.keys():\n",
    "            labelCounts[currentLabel] = 0\n",
    "        labelCounts[currentLabel] += 1\n",
    "    shannonEnt = 0.0\n",
    "    for key in labelCounts:\n",
    "        prob = float(labelCounts[key]) / numEntries\n",
    "        shannonEnt -= prob * log(prob, 2)\n",
    "    return shannonEnt"
   ]
  },
  {
   "cell_type": "code",
   "execution_count": 4,
   "metadata": {},
   "outputs": [],
   "source": [
    "def createDataSet():\n",
    "    dataSet = [\n",
    "              [1, 1, 'yes'],\n",
    "              [1, 1, 'yes'],\n",
    "              [1, 0, 'no'],\n",
    "              [0, 1, 'no'],\n",
    "              [0, 1, 'no']]\n",
    "    labels = ['no surfacing', 'flippers']\n",
    "    return dataSet, labels"
   ]
  },
  {
   "cell_type": "code",
   "execution_count": 5,
   "metadata": {},
   "outputs": [
    {
     "name": "stdout",
     "output_type": "stream",
     "text": [
      "[[1, 1, 'yes'], [1, 1, 'yes'], [1, 0, 'no'], [0, 1, 'no'], [0, 1, 'no']]\n",
      "0.9709505944546686\n",
      "1.3709505944546687\n"
     ]
    }
   ],
   "source": [
    "myDat, labels = createDataSet()\n",
    "print(myDat)\n",
    "print(calcShannonEnt(myDat))\n",
    "\n",
    "myDat[0][-1] = 'maybe'  # 熵越高，则混合的数据也越多\n",
    "print(calcShannonEnt(myDat))"
   ]
  },
  {
   "cell_type": "code",
   "execution_count": 6,
   "metadata": {},
   "outputs": [
    {
     "name": "stdout",
     "output_type": "stream",
     "text": [
      "[1, 2, 3, [4, 5, 6]]\n"
     ]
    }
   ],
   "source": [
    "a = [1, 2, 3]\n",
    "b = [4, 5, 6]\n",
    "a.append(b)\n",
    "print(a)"
   ]
  },
  {
   "cell_type": "code",
   "execution_count": 7,
   "metadata": {},
   "outputs": [
    {
     "name": "stdout",
     "output_type": "stream",
     "text": [
      "[1, 2, 3, 4, 5, 6]\n"
     ]
    }
   ],
   "source": [
    "a = [1, 2, 3]\n",
    "b = [4, 5, 6]\n",
    "a.extend(b)\n",
    "print(a)"
   ]
  },
  {
   "cell_type": "code",
   "execution_count": 8,
   "metadata": {},
   "outputs": [],
   "source": [
    "#程序清单 3-2 按照给定特征划分数据集\n",
    "def splitDataSet(dataSet, axis, value):\n",
    "    retDataSet = []\n",
    "    for featVec in dataSet:\n",
    "        if featVec[axis] == value:\n",
    "            reducedFeatVec = featVec[:axis] \n",
    "            reducedFeatVec.extend(featVec[axis + 1 : ])\n",
    "            retDataSet.append(reducedFeatVec)\n",
    "    return retDataSet "
   ]
  },
  {
   "cell_type": "code",
   "execution_count": 9,
   "metadata": {},
   "outputs": [
    {
     "name": "stdout",
     "output_type": "stream",
     "text": [
      "[[1, 1, 'yes'], [1, 1, 'yes'], [1, 0, 'no'], [0, 1, 'no'], [0, 1, 'no']]\n",
      "[[1, 'yes'], [1, 'yes'], [0, 'no']]\n",
      "[[1, 'no'], [1, 'no']]\n",
      "[[1, 'yes'], [1, 'yes'], [0, 'no'], [0, 'no']]\n",
      "[[1, 'no']]\n"
     ]
    }
   ],
   "source": [
    "myDat, labels = createDataSet()\n",
    "print(myDat)\n",
    "\n",
    "print(splitDataSet(myDat, 0, 1))\n",
    "print(splitDataSet(myDat, 0, 0))\n",
    "print(splitDataSet(myDat, 1, 1))\n",
    "print(splitDataSet(myDat, 1, 0))"
   ]
  },
  {
   "cell_type": "code",
   "execution_count": 10,
   "metadata": {},
   "outputs": [
    {
     "name": "stdout",
     "output_type": "stream",
     "text": [
      "[]\n",
      "[1]\n",
      "[1 2]\n",
      "[1 2 3]\n",
      "\n",
      "\n",
      "[1 2 3]\n",
      "[2 3]\n",
      "[3]\n",
      "[]\n"
     ]
    }
   ],
   "source": [
    "a = np.array([1, 2, 3])\n",
    "print(a[:0])\n",
    "print(a[:1])\n",
    "print(a[:2])\n",
    "print(a[:3])\n",
    "print('\\n')\n",
    "print(a[0:])\n",
    "print(a[1:])\n",
    "print(a[2:])\n",
    "print(a[3:])"
   ]
  },
  {
   "cell_type": "code",
   "execution_count": 11,
   "metadata": {},
   "outputs": [],
   "source": [
    "# 程序清单 3-3 选择最好的数据集划分方式\n",
    "def chooseBestFeatureToSplit(dataSet):\n",
    "    numFeatures = len(dataSet[0]) - 1\n",
    "#     print(dataSet[0])\n",
    "#     print(numFeatures)\n",
    "    baseEntropy = calcShannonEnt(dataSet)\n",
    "    bestInfoGain = 0.0; bestFeature = -1\n",
    "    for i in np.arange(numFeatures):\n",
    "        featList = [example[i] for example in dataSet]\n",
    "        uniqueVals = set(featList)\n",
    "        newEntropy = 0.0\n",
    "        for value in uniqueVals:\n",
    "            subDataSet = splitDataSet(dataSet, i, value)\n",
    "            prob = len(subDataSet) / float(len(dataSet))\n",
    "            newEntropy += prob * calcShannonEnt(subDataSet) \n",
    "        infoGain = baseEntropy - newEntropy\n",
    "        if infoGain > bestInfoGain:\n",
    "            bestInfoGain = infoGain\n",
    "            bestFeature = i\n",
    "    return bestFeature"
   ]
  },
  {
   "cell_type": "code",
   "execution_count": 12,
   "metadata": {},
   "outputs": [
    {
     "name": "stdout",
     "output_type": "stream",
     "text": [
      "0\n",
      "\n",
      "\n",
      "[1, 1, 1, 0, 0]\n",
      "1 {0, 1}\n",
      "[1, 1, 0, 1, 1]\n",
      "1 {0, 1}\n",
      "[1, 1, 0, 1, 1]\n",
      "['yes', 'yes', 'no', 'no', 'no']\n"
     ]
    }
   ],
   "source": [
    "myDat, labels = createDataSet()\n",
    "print(chooseBestFeatureToSplit(myDat))\n",
    "\n",
    "\n",
    "print('\\n')\n",
    "for i in np.arange(2):\n",
    "    a = [b[i] for b in myDat]\n",
    "    print(a)\n",
    "    print('1', set(a))\n",
    "print(a)\n",
    "\n",
    "a = [b[-1] for b in myDat]\n",
    "print(a)"
   ]
  },
  {
   "cell_type": "code",
   "execution_count": 13,
   "metadata": {},
   "outputs": [],
   "source": [
    "# 如果数据集已经处理了所有属性，但是类标签依然不是唯一的，此时我们需要决定如何定义该叶子节点，\n",
    "# 在这种情况下，我们通常会采用 多数表决的方法决定该叶子节点的分类\n",
    "def majorityCnt(classList):\n",
    "    classCount = {}\n",
    "    for vote in classList:\n",
    "        if vote not in classCount.keys():\n",
    "            classCount[vote] = 0\n",
    "        classCount[vote] += 1\n",
    "    \n",
    "    newvalue = -1\n",
    "    for key in classCount:\n",
    "        if newvalue < classCount[key]:\n",
    "            newkey = key\n",
    "            newvalue = classCount[key]\n",
    "    return newkey"
   ]
  },
  {
   "cell_type": "code",
   "execution_count": 14,
   "metadata": {},
   "outputs": [],
   "source": [
    "# 程序清单 3-4 创建树的函数代码\n",
    "def createTree(dataSet, labels): # 两个输入参数-- 数据集， 标签列表\n",
    "    classList = [example[-1] for example in dataSet]\n",
    "    if classList.count(classList[0]) == len(classList):\n",
    "        return classList[0]   # 如果类别完全相同则停止继续划分\n",
    "    \n",
    "    if len(dataSet[0]) == 1:  # 遍历完所有特征时返回出现次数最多的类别\n",
    "        return majorityCnt(classList) \n",
    "    \n",
    "    bestFeat = chooseBestFeatureToSplit(dataSet)\n",
    "    bestFeatLabel = labels[bestFeat]\n",
    "    myTree = {bestFeatLabel:{}}\n",
    "    del(labels[bestFeat])\n",
    "    \n",
    "    featValues = [example[bestFeat] for example in dataSet]\n",
    "    uniqueVals = set(featValues)\n",
    "    for value in uniqueVals:\n",
    "        subLabels = labels[:]  # 这行代码复制了类标签\n",
    "        myTree[bestFeatLabel][value] = createTree(splitDataSet(dataSet, bestFeat, value), subLabels) # 字典的嵌套\n",
    "        #print('1  ',bestFeatLabel,' ',value,' ',myTree[bestFeatLabel][value])\n",
    "    #print('2 ',myTree, '\\n')\n",
    "    return myTree"
   ]
  },
  {
   "cell_type": "code",
   "execution_count": 15,
   "metadata": {},
   "outputs": [
    {
     "name": "stdout",
     "output_type": "stream",
     "text": [
      "{'no surfacing': {0: 'no', 1: {'flippers': {0: 'no', 1: 'yes'}}}}\n"
     ]
    }
   ],
   "source": [
    "myDat, labels = createDataSet()\n",
    "myTree = createTree(myDat, labels)\n",
    "print(myTree)\n",
    "# {'no surfacing': {0: 'no', 1: {'flippers': {0: 'no', 1: 'yes'}}}}\n"
   ]
  },
  {
   "cell_type": "code",
   "execution_count": 16,
   "metadata": {},
   "outputs": [
    {
     "name": "stdout",
     "output_type": "stream",
     "text": [
      "[1, 3, 4, 1, 3, 5, 6, 1]\n",
      "3\n",
      "[1, 3, 4, 1, 3, 5, 6, 1]\n"
     ]
    }
   ],
   "source": [
    "a = [1, 3, 4, 1, 3, 5, 6, 1]\n",
    "print(a)\n",
    "print(a.count(1))\n",
    "\n",
    "b = a[:]\n",
    "print(b)"
   ]
  },
  {
   "cell_type": "code",
   "execution_count": 17,
   "metadata": {},
   "outputs": [
    {
     "name": "stdout",
     "output_type": "stream",
     "text": [
      "{'no sur': {0: 'no'}}\n",
      "{'no sur': {0: 'no', 1: {'fli': {0: 'no', 1: 'yes'}}}}\n",
      "{'fli': {0: 'no', 1: 'yes'}}\n",
      "yes\n"
     ]
    }
   ],
   "source": [
    "# 字典 嵌套\n",
    "s = {'no sur':{}}\n",
    "s['no sur'][0] = 'no'\n",
    "print(s)\n",
    "\n",
    "ss = {'fli':{}}\n",
    "ss['fli'][0] = 'no'\n",
    "ss['fli'][1] = 'yes'\n",
    "\n",
    "s['no sur'][1] = ss\n",
    "print(s)\n",
    "print(s['no sur'][1])\n",
    "print(s['no sur'][1]['fli'][1])"
   ]
  },
  {
   "cell_type": "markdown",
   "metadata": {},
   "source": [
    "# 3.2 在python中使用 Matplotlib 注解绘制树形图"
   ]
  },
  {
   "cell_type": "code",
   "execution_count": 18,
   "metadata": {},
   "outputs": [
    {
     "data": {
      "text/plain": [
       "<matplotlib.figure.Figure at 0x7fb18d9f80f0>"
      ]
     },
     "metadata": {},
     "output_type": "display_data"
    }
   ],
   "source": [
    "# 程序清单 3-5 使用文本注解绘制树节点\n",
    "import matplotlib.pyplot as plt\n",
    "\n",
    "# 定义文本框和箭头格式\n",
    "# 下面的字典定义也可写作 decisionNode={boxstyle:'sawtooth',fc:'0.8'}  \n",
    "# boxstyle为文本框的类型，sawtooth是锯齿形，fc是边框线粗细  \n",
    "decisionNode = dict(boxstyle = \"sawtooth\", fc = \"0.8\")\n",
    "leafNode = dict(boxstyle = \"round4\", fc = \"0.8\") # 定义决策树的叶子结点的描述属性  \n",
    "arrow_args = dict(arrowstyle = \"<-\")#决策树的箭头属性\n",
    "\n",
    "# 绘制带箭头的注解\n",
    "def plotNode(nodeTxt, centerPt, parentPt, nodeType):\n",
    "    # annotate 是关于一个数据点的文本\n",
    "    # nodeTxt  为要显示的文本\n",
    "    # centerPt 为文本的中心点，箭头所在的点\n",
    "    # parentPt 为指向文本的点\n",
    "    createPlot.ax1.annotate(nodeTxt, xy = parentPt, xycoords = \"axes fraction\", \\\n",
    "                           xytext = centerPt, textcoords = \"axes fraction\", \\\n",
    "                           va = \"center\", ha = \"center\", bbox = nodeType, arrowprops = arrow_args)\n",
    "\n",
    "def createPlot():\n",
    "    fig = plt.figure(1, facecolor = \"white\") # 定义一个画布，背景为白色\n",
    "#     plt.figure(figsize = (10, 10))\n",
    "    fig.clf() # 画布清空\n",
    "    # createPlot.ax1为全局变量，绘制图像的句柄，subplot为定义了一个绘图，111表示figure中的图有1行1列，即1个，最后的1代表第一个图 \n",
    "    # frameon表示是否绘制坐标轴矩形 \n",
    "    createPlot.ax1 = plt.subplot(111, frameon = False)\n",
    "    plotNode('决策节点', (0.5, 0.1), (0.1, 0.5), decisionNode) # 绘制节点\n",
    "    plotNode('叶节点', (0.8, 0.1), (0.3, 0.8), leafNode)       # 绘制节点\n",
    "    plt.show()\n",
    "\n",
    "createPlot()"
   ]
  },
  {
   "cell_type": "code",
   "execution_count": 19,
   "metadata": {},
   "outputs": [],
   "source": [
    "# 程序清单 3-6 获取叶节点的数目和树的层数\n",
    "def getNumLeafs(myTree):\n",
    "    # 定义叶子节点数目\n",
    "    numLeafs = 0 \n",
    "    # 在python2.x中，dict.keys()返回一个列表，在python3.x中，dict.keys()返回一个dict_keys对象，\n",
    "    # 比起列表，这个对象的行为更像是set，所以不支持索引的。\n",
    "    firstStr = list(myTree.keys())[0]\n",
    "    secondDict = myTree[firstStr]\n",
    "#     print('88 ',firstStr)\n",
    "#     print(secondDict)\n",
    "    for key in secondDict.keys():\n",
    "        if isinstance(secondDict[key], dict):  # 测试节点的数据类型是否为字典\n",
    "            numLeafs += getNumLeafs(secondDict[key])\n",
    "        else:\n",
    "            numLeafs += 1\n",
    "    return numLeafs\n"
   ]
  },
  {
   "cell_type": "code",
   "execution_count": 20,
   "metadata": {},
   "outputs": [],
   "source": [
    "def getTreeDepth(myTree):\n",
    "    maxDepth = 0\n",
    "    firstStr = list(myTree.keys())[0]\n",
    "    secondDict = myTree[firstStr]\n",
    "    for key in secondDict.keys():\n",
    "        if isinstance(secondDict[key], dict): # 测试节点的数据类型是否为字典\n",
    "            thisDepth = 1 + getTreeDepth(secondDict[key])\n",
    "        else:\n",
    "            thisDepth = 1\n",
    "        if thisDepth > maxDepth:\n",
    "            maxDepth = thisDepth\n",
    "    return maxDepth\n"
   ]
  },
  {
   "cell_type": "code",
   "execution_count": 21,
   "metadata": {},
   "outputs": [
    {
     "name": "stdout",
     "output_type": "stream",
     "text": [
      "{'no surfacing': {0: 'no', 1: {'flippers': {0: 'no', 1: 'yes'}}}}\n",
      "3\n",
      "2\n"
     ]
    }
   ],
   "source": [
    "# 测试\n",
    "myDat, labels = createDataSet()\n",
    "myTree = createTree(myDat, labels)\n",
    "\n",
    "print(myTree)\n",
    "\n",
    "print(getNumLeafs(myTree))\n",
    "print(getTreeDepth(myTree))"
   ]
  },
  {
   "cell_type": "code",
   "execution_count": 22,
   "metadata": {},
   "outputs": [],
   "source": [
    "# 为了节省时间，函数 retrieveTree 输出预先存储的树的信息，避免每次测试代码都要从数据中创建树的麻烦\n",
    "def retrieveTree(i):\n",
    "    listOfTrees = [\n",
    "        {'no surfacing': {0: 'no', 1: {'flippers': {0: 'no', 1: 'yes'}}}},\n",
    "        {'no surfacing': {0: 'no', 1: {'flippers': { 0 : {0: 'no', 1: 'yes'}, 1 : 'no'}}}}\n",
    "            ]\n",
    "    return listOfTrees[i]"
   ]
  },
  {
   "cell_type": "code",
   "execution_count": 23,
   "metadata": {},
   "outputs": [
    {
     "name": "stdout",
     "output_type": "stream",
     "text": [
      "{'no surfacing': {0: 'no', 1: {'flippers': {0: {0: 'no', 1: 'yes'}, 1: 'no'}}}}\n",
      "3\n",
      "2\n"
     ]
    }
   ],
   "source": [
    "# 测试\n",
    "print(retrieveTree(1))\n",
    "myTree = retrieveTree(0)\n",
    "print(getNumLeafs(myTree))\n",
    "print(getTreeDepth(myTree))"
   ]
  },
  {
   "cell_type": "code",
   "execution_count": 24,
   "metadata": {},
   "outputs": [],
   "source": [
    "# 程序清单 3-7 plotTree函数\n",
    "\n",
    "# 绘制中间文本 -->> 在父子节点间填充文本信息\n",
    "def plotMidText(cntrPt, parentPt, txtString):\n",
    "    # 求中间点的横坐标\n",
    "    xMid = (parentPt[0] - cntrPt[0]) / 2.0 + cntrPt[0]\n",
    "    # 求中间点的纵坐标\n",
    "    yMid = (parentPt[1] - cntrPt[1]) / 2.0 + cntrPt[1]\n",
    "    # 绘制树节点\n",
    "    createPlot.ax1.text(xMid, yMid, txtString)\n",
    "\n",
    "# 绘制决策树\n",
    "def plotTree(myTree, parentPt, nodeTxt):\n",
    "    # 定义并获得决策树的叶子节点数\n",
    "    numLeafs = getNumLeafs(myTree)\n",
    "    # 获得决策树深度\n",
    "    depth = getTreeDepth(myTree)\n",
    "    # 得到第一个特征\n",
    "    firstStr = list(myTree.keys())[0]\n",
    "    # 计算坐标， X坐标为当前树的叶子节点数目除以 整个树的叶子节点数 再除以 2 ，y 为起点\n",
    "    cntrPt = (plotTree.xOff + (1.0 + float(numLeafs)) / 2.0 / plotTree.totalW, plotTree.yOff)\n",
    "    \n",
    "    plotMidText(cntrPt, parentPt, nodeTxt)\n",
    "    \n",
    "    # 绘制决策树节点\n",
    "    plotNode(firstStr, cntrPt, parentPt, decisionNode)\n",
    "    # 根据 firstStr 找到相应的值\n",
    "    secondDict = myTree[firstStr]\n",
    "    # 因为进入下一层，所以 y 的坐标要变，图像坐标是从左上角为原点\n",
    "    plotTree.yOff = plotTree.yOff - 1.0 / plotTree.totalD\n",
    "    \n",
    "    # 遍历 secondDict\n",
    "    for key in secondDict.keys():\n",
    "        if isinstance(secondDict[key], dict):\n",
    "            plotTree(secondDict[key], cntrPt, str(key)) # 递归绘制决策树\n",
    "        else:\n",
    "            plotTree.xOff = plotTree.xOff + 1.0 / plotTree.totalW  # 计算叶子节点横坐标\n",
    "            plotNode(secondDict[key], (plotTree.xOff, plotTree.yOff), cntrPt, leafNode) # 绘制叶子节点\n",
    "            plotMidText((plotTree.xOff, plotTree.yOff), cntrPt, str(key)) # 特征的值\n",
    "    plotTree.yOff = plotTree.yOff + 1.0 / plotTree.totalD # 计算纵坐标\n",
    "\n",
    "def createPlot(inTree):\n",
    "    fig = plt.figure(1, facecolor = 'white')\n",
    "    fig.clf()\n",
    "    # 定义横纵坐标轴，无内容\n",
    "    axprops = dict(xticks = [], yticks = [])\n",
    "    # 绘制图像，无边框，无内容\n",
    "    createPlot.ax1 = plt.subplot(111, frameon = False, **axprops)\n",
    "    # 树的宽度\n",
    "    plotTree.totalW = float(getNumLeafs(inTree))\n",
    "    # 树的高度\n",
    "    plotTree.totalD = float(getTreeDepth(inTree))\n",
    "    # 决策树起始横坐标\n",
    "    plotTree.xOff = - 0.5 / plotTree.totalW\n",
    "#     print(plotTree.xOff)\n",
    "    # 决策树的起始纵坐标\n",
    "    plotTree.yOff = 1.0\n",
    "    # 绘制决策树\n",
    "    plotTree(inTree, (0.5, 0.1), '')\n",
    "    # 显示图像\n",
    "    plt.show()\n",
    "        "
   ]
  },
  {
   "cell_type": "code",
   "execution_count": 25,
   "metadata": {},
   "outputs": [
    {
     "name": "stdout",
     "output_type": "stream",
     "text": [
      "{'no surfacing': {0: 'no', 1: {'flippers': {0: 'no', 1: 'yes'}}, 3: 'maybe'}}\n"
     ]
    },
    {
     "data": {
      "image/png": "[encoded data removed]",
      "text/plain": [
       "<matplotlib.figure.Figure at 0x7fb18d9ffac8>"
      ]
     },
     "metadata": {},
     "output_type": "display_data"
    }
   ],
   "source": [
    "myTree = retrieveTree(0)\n",
    "\n",
    "myTree['no surfacing'][3] = 'maybe'\n",
    "print(myTree)\n",
    "createPlot(myTree)"
   ]
  },
  {
   "cell_type": "markdown",
   "metadata": {},
   "source": [
    "# 使用决策树执行分类"
   ]
  },
  {
   "cell_type": "code",
   "execution_count": 26,
   "metadata": {},
   "outputs": [],
   "source": [
    "# 程序清单3-8 使用决策树的分类函数\n",
    "def classify(inputTree, featLabels, testVec):\n",
    "    firstStr = list(inputTree.keys())[0]\n",
    "    secondDict = inputTree[firstStr]\n",
    "    featIndex = featLabels.index(firstStr)\n",
    "    print('1 ',featIndex)\n",
    "    for key in secondDict.keys():\n",
    "        if testVec[featIndex] == key:\n",
    "            if isinstance(secondDict[key], dict):\n",
    "                classLabel = classify(secondDict[key], featLabels, testVec)\n",
    "            else:\n",
    "                classLabel = secondDict[key]\n",
    "    return classLabel"
   ]
  },
  {
   "cell_type": "code",
   "execution_count": 27,
   "metadata": {},
   "outputs": [
    {
     "name": "stdout",
     "output_type": "stream",
     "text": [
      "['no surfacing', 'flippers']\n",
      "{'no surfacing': {0: 'no', 1: {'flippers': {0: 'no', 1: 'yes'}}}}\n",
      "1  0\n",
      "1  1\n",
      "no\n",
      "1  0\n",
      "1  1\n",
      "yes\n"
     ]
    }
   ],
   "source": [
    "myDat, labels = createDataSet()\n",
    "print(labels)\n",
    "myTree = retrieveTree(0)\n",
    "print(myTree)\n",
    "print(classify(myTree, labels, [1, 0]))\n",
    "print(classify(myTree, labels, [1, 1]))"
   ]
  },
  {
   "cell_type": "code",
   "execution_count": 28,
   "metadata": {},
   "outputs": [],
   "source": [
    "# 程序清单 3-9 使用pickle模块存储决策树\n",
    "import pickle\n",
    "def storeTree(inputTree, filename):\n",
    "    fw = open(filename, 'wb')\n",
    "    pickle.dump(inputTree, fw)\n",
    "    fw.close()\n",
    "    \n",
    "def grabTree(filename):\n",
    "    fr = open(filename, 'rb')\n",
    "    return pickle.load(fr)"
   ]
  },
  {
   "cell_type": "code",
   "execution_count": 29,
   "metadata": {},
   "outputs": [
    {
     "name": "stdout",
     "output_type": "stream",
     "text": [
      "['no surfacing', 'flippers']\n",
      "{'no surfacing': {0: 'no', 1: {'flippers': {0: 'no', 1: 'yes'}}}}\n"
     ]
    }
   ],
   "source": [
    "myDat, labels = createDataSet()\n",
    "print(labels)\n",
    "myTree = retrieveTree(0)\n",
    "\n",
    "storeTree(myTree, r'Ch03\\a.txt')\n",
    "\n",
    "print(grabTree(r'Ch03\\a.txt'))"
   ]
  },
  {
   "cell_type": "markdown",
   "metadata": {},
   "source": [
    "# 使用决策树预测隐形眼镜类型"
   ]
  },
  {
   "cell_type": "code",
   "execution_count": 31,
   "metadata": {},
   "outputs": [
    {
     "data": {
      "image/png": "[encoded data removed]",
      "text/plain": [
       "<matplotlib.figure.Figure at 0x7fb17f0deba8>"
      ]
     },
     "metadata": {},
     "output_type": "display_data"
    }
   ],
   "source": [
    "fr = open('/home/gcb/data/lenses.txt')\n",
    "lenses = [inst.strip().split('\\t') for inst in fr.readlines()]\n",
    "# print(lenses)\n",
    "lensesLabels = ['age', 'prescript', 'astigmatic', 'tearRate']\n",
    "lensesTree = createTree(lenses, lensesLabels)\n",
    "# print(lensesTree)\n",
    "createPlot(lensesTree)"
   ]
  },
  {
   "cell_type": "code",
   "execution_count": null,
   "metadata": {
    "collapsed": true
   },
   "outputs": [],
   "source": []
  },
  {
   "cell_type": "code",
   "execution_count": null,
   "metadata": {
    "collapsed": true
   },
   "outputs": [],
   "source": []
  },
  {
   "cell_type": "code",
   "execution_count": null,
   "metadata": {
    "collapsed": true
   },
   "outputs": [],
   "source": []
  },
  {
   "cell_type": "code",
   "execution_count": null,
   "metadata": {
    "collapsed": true
   },
   "outputs": [],
   "source": []
  },
  {
   "cell_type": "code",
   "execution_count": null,
   "metadata": {
    "collapsed": true
   },
   "outputs": [],
   "source": []
  },
  {
   "cell_type": "code",
   "execution_count": null,
   "metadata": {
    "collapsed": true
   },
   "outputs": [],
   "source": []
  }
 ],
 "metadata": {
  "kernelspec": {
   "display_name": "Python 3",
   "language": "python",
   "name": "python3"
  },
  "language_info": {
   "codemirror_mode": {
    "name": "ipython",
    "version": 3
   },
   "file_extension": ".py",
   "mimetype": "text/x-python",
   "name": "python",
   "nbconvert_exporter": "python",
   "pygments_lexer": "ipython3",
   "version": "3.6.4"
  }
 },
 "nbformat": 4,
 "nbformat_minor": 2
}
